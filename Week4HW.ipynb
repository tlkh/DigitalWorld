{
 "cells": [
  {
   "cell_type": "code",
   "execution_count": null,
   "metadata": {},
   "outputs": [],
   "source": [
    "def f_to_c(f):\n",
    "    return (f-32)/1.8\n",
    "\n",
    "def f_to_c_approx(f):\n",
    "    return (f-30)/2\n",
    "\n",
    "def get_conversion_table_a():\n",
    "    convert_list, table = list(range(0,101,10)), []\n",
    "    for temp in convert_list:\n",
    "        temp_list = [temp, round(f_to_c(temp),1), round(f_to_c_approx(temp),1)]\n",
    "        table.append(temp_list)\n",
    "    return table\n",
    "    \n",
    "def get_conversion_table_b():\n",
    "    convert_list, table = list(range(0,101,10)), [[],[],[]]\n",
    "    for temp in convert_list:\n",
    "        table[0].append(temp)\n",
    "        table[1].append(round(f_to_c(temp),1))\n",
    "        table[2].append(round(f_to_c_approx(temp)))\n",
    "    return table"
   ]
  },
  {
   "cell_type": "code",
   "execution_count": null,
   "metadata": {},
   "outputs": [],
   "source": [
    "get_conversion_table_b()"
   ]
  },
  {
   "cell_type": "code",
   "execution_count": null,
   "metadata": {},
   "outputs": [],
   "source": [
    "def max_list(inlist):\n",
    "    outlist = []\n",
    "    for lst in inlist:\n",
    "        outlist.append(max(lst))\n",
    "    return outlist"
   ]
  },
  {
   "cell_type": "code",
   "execution_count": null,
   "metadata": {},
   "outputs": [],
   "source": [
    "def most_frequent(integers):\n",
    "    results = {}\n",
    "    for integer in integers:\n",
    "        try:\n",
    "            results[str(integer)]+=1\n",
    "        except:\n",
    "            results[str(integer)]=1\n",
    "    occurences = list(results.values())\n",
    "    max_value = max(occurences)\n",
    "    max_index = [i for i,x in enumerate(occurences) if x==max_value]\n",
    "    max_occur = [int(list(results.keys())[index]) for index in max_index]\n",
    "    return max_occur"
   ]
  },
  {
   "cell_type": "code",
   "execution_count": null,
   "metadata": {},
   "outputs": [],
   "source": [
    "def diff(p):\n",
    "    coefficients = [x for x in p.values()]\n",
    "    powers = [x for x in p.keys()]\n",
    "    output = {}\n",
    "    for i,power in enumerate(powers):\n",
    "        if power-1 > 0:\n",
    "            output[power-1] = coefficients[i]*power\n",
    "    print(output)"
   ]
  },
  {
   "cell_type": "code",
   "execution_count": null,
   "metadata": {},
   "outputs": [],
   "source": [
    "p={0:-3, 3:2, 5:-1}\n",
    "diff(p)"
   ]
  },
  {
   "cell_type": "code",
   "execution_count": 154,
   "metadata": {},
   "outputs": [],
   "source": [
    "x=[1,2,3]\n",
    "y=[4,5,6,7]\n",
    "z=[8,9]"
   ]
  },
  {
   "cell_type": "code",
   "execution_count": 155,
   "metadata": {},
   "outputs": [],
   "source": [
    "import numpy as np\n",
    "def meshgrid(x,y,z):\n",
    "    output = np.zeros( (3,len(y),len(x),len(z)) )\n",
    "    for j,y_i in enumerate(y):\n",
    "        for i,x_i in enumerate(x):\n",
    "            for k,z_i in enumerate(z):\n",
    "                output[0,j,i,:]=x_i\n",
    "                output[1,j,:,:]=y_i\n",
    "                output[2,j,:,k]=z_i\n",
    "    return output"
   ]
  },
  {
   "cell_type": "code",
   "execution_count": 156,
   "metadata": {},
   "outputs": [
    {
     "name": "stdout",
     "output_type": "stream",
     "text": [
      "[[[[1. 1.]\n",
      "   [2. 2.]\n",
      "   [3. 3.]]\n",
      "\n",
      "  [[1. 1.]\n",
      "   [2. 2.]\n",
      "   [3. 3.]]\n",
      "\n",
      "  [[1. 1.]\n",
      "   [2. 2.]\n",
      "   [3. 3.]]\n",
      "\n",
      "  [[1. 1.]\n",
      "   [2. 2.]\n",
      "   [3. 3.]]]\n",
      "\n",
      "\n",
      " [[[4. 4.]\n",
      "   [4. 4.]\n",
      "   [4. 4.]]\n",
      "\n",
      "  [[5. 5.]\n",
      "   [5. 5.]\n",
      "   [5. 5.]]\n",
      "\n",
      "  [[6. 6.]\n",
      "   [6. 6.]\n",
      "   [6. 6.]]\n",
      "\n",
      "  [[7. 7.]\n",
      "   [7. 7.]\n",
      "   [7. 7.]]]\n",
      "\n",
      "\n",
      " [[[8. 9.]\n",
      "   [8. 9.]\n",
      "   [8. 9.]]\n",
      "\n",
      "  [[8. 9.]\n",
      "   [8. 9.]\n",
      "   [8. 9.]]\n",
      "\n",
      "  [[8. 9.]\n",
      "   [8. 9.]\n",
      "   [8. 9.]]\n",
      "\n",
      "  [[8. 9.]\n",
      "   [8. 9.]\n",
      "   [8. 9.]]]]\n"
     ]
    }
   ],
   "source": [
    "print(meshgrid(x,y,z))"
   ]
  },
  {
   "cell_type": "code",
   "execution_count": 157,
   "metadata": {},
   "outputs": [],
   "source": [
    "def meshgrid(x,y,z):\n",
    "    output = np.zeros( (3,len(y),len(x),len(z)) )\n",
    "    for j,y_i in enumerate(y):\n",
    "        for i,x_i in enumerate(x):\n",
    "            for k,z_i in enumerate(z):\n",
    "                output[0,j,i,:]=x_i\n",
    "                output[1,j,:,:]=y_i\n",
    "                output[2,j,:,k]=z_i\n",
    "    return output"
   ]
  },
  {
   "cell_type": "code",
   "execution_count": 200,
   "metadata": {},
   "outputs": [],
   "source": [
    "def meshgrid(x,y,z):\n",
    "    output = [[],[],[]]\n",
    "    output_0, output_1, output_2 = [],[],[]\n",
    "    x_list, y_list, z_list = [],[],[]\n",
    "    z_inner = []\n",
    "    for k,z_i in enumerate(z):\n",
    "        z_inner.append(z_i)\n",
    "    for i,x_i in enumerate(x):\n",
    "        x_list.append([x_i,x_i])\n",
    "        z_list.append(z_inner)\n",
    "    for j,y_i in enumerate(y):\n",
    "        y_inner = [[y_i,y_i] for i in range(len(x))]\n",
    "        y_list.append(y_inner)\n",
    "        output_0.append(x_list)\n",
    "        output_1.append(y_list)\n",
    "        output_2.append(z_list)\n",
    "    \n",
    "    output[0] = output_0\n",
    "    output[1] = y_list\n",
    "    output[2] = output_2\n",
    "    \n",
    "    return np.array(output)"
   ]
  },
  {
   "cell_type": "code",
   "execution_count": 202,
   "metadata": {},
   "outputs": [
    {
     "name": "stdout",
     "output_type": "stream",
     "text": [
      "(3, 4, 3, 2)\n"
     ]
    }
   ],
   "source": [
    "print(meshgrid(x,y,z).shape)"
   ]
  },
  {
   "cell_type": "code",
   "execution_count": null,
   "metadata": {},
   "outputs": [],
   "source": []
  },
  {
   "cell_type": "code",
   "execution_count": null,
   "metadata": {},
   "outputs": [],
   "source": []
  }
 ],
 "metadata": {
  "kernelspec": {
   "display_name": "Python 3",
   "language": "python",
   "name": "python3"
  },
  "language_info": {
   "codemirror_mode": {
    "name": "ipython",
    "version": 3
   },
   "file_extension": ".py",
   "mimetype": "text/x-python",
   "name": "python",
   "nbconvert_exporter": "python",
   "pygments_lexer": "ipython3",
   "version": "3.6.4"
  }
 },
 "nbformat": 4,
 "nbformat_minor": 2
}
