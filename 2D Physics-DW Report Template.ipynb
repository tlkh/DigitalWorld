{
 "cells": [
  {
   "cell_type": "markdown",
   "metadata": {},
   "source": [
    "# Report for 2D Project Physical World and Digital World\n",
    "\n",
    "Cohort: # enter your cohort\n",
    "\n",
    "Team No.: # Enter your team number\n",
    "\n",
    "Members:\n",
    "* Student 1 Name (Student ID)\n",
    "* Student 2 Name (Student ID)\n"
   ]
  },
  {
   "cell_type": "markdown",
   "metadata": {},
   "source": [
    "# Introduction\n",
    "\n",
    "Write your introduction here. Describe the problem you want to solve and a brief of your approach and summary of your result.\n"
   ]
  },
  {
   "cell_type": "markdown",
   "metadata": {},
   "source": [
    "# Description of Data from Experiment"
   ]
  },
  {
   "cell_type": "markdown",
   "metadata": {},
   "source": [
    "## Data Collection\n",
    "\n",
    "Describe how you collect your data and the reasoning behind such approach.\n",
    "\n"
   ]
  },
  {
   "cell_type": "markdown",
   "metadata": {},
   "source": [
    "## Data Preparation\n",
    "\n",
    "Describe how you prepare your data. Include any codes you have here."
   ]
  },
  {
   "cell_type": "markdown",
   "metadata": {},
   "source": [
    "## Data Format\n",
    "\n",
    "Describe your data and its features. Include any codes or visualization of data."
   ]
  },
  {
   "cell_type": "markdown",
   "metadata": {},
   "source": [
    "# Training Model\n",
    "\n",
    "Describe how you train your model. Include any code and output"
   ]
  },
  {
   "cell_type": "markdown",
   "metadata": {},
   "source": [
    "# Verification and Accuracy\n",
    "\n",
    "Describe how you check the accuracy of your model and its result. State any analysis you have and the steps you have taken to improve its accuracy."
   ]
  },
  {
   "cell_type": "markdown",
   "metadata": {},
   "source": [
    "# Testing Using Instructor's Data"
   ]
  },
  {
   "cell_type": "markdown",
   "metadata": {},
   "source": [
    "Instruction:\n",
    "\n",
    "* Store your trained model into a pickle object which can be loaded. \n",
    "* Read an excel file with the following format:\n",
    "```\n",
    "time (s)\treading\n",
    "0.00\t    25.812\n",
    "0.90\t    28.562\n",
    "1.79\t    31.875\n",
    "2.68\t    35.062\n",
    "3.55\t    37.937\n",
    "4.43\t    40.687\n",
    "5.30\t    43.25\n",
    "```\n",
    "where the first column indicates the time in seconds and the second column indicates the sensor reading in Celsius. \n",
    "* The number of rows in the instructors' data can be of any number. If your code has a minimum number of rows, your code must be able to handle and exit safely when the data provided is less than the required minimum.\n",
    "* Write a code to prepare the data for prediction.\n",
    "* Write a code to predict the final temperature.\n",
    "\n"
   ]
  },
  {
   "cell_type": "code",
   "execution_count": null,
   "metadata": {
    "collapsed": true
   },
   "outputs": [],
   "source": [
    "# write a code to load your trained model from a pickle object\n",
    "import pickle\n",
    "filename = '' # enter your pickle file name containing the model\n",
    "with open(filename,'rb') as f:\n",
    "    model = pickle.load(f)\n"
   ]
  },
  {
   "cell_type": "code",
   "execution_count": null,
   "metadata": {
    "collapsed": true
   },
   "outputs": [],
   "source": [
    "# write a code to read an excel file\n",
    "import pandas as pd\n",
    "num_test = 9\n",
    "filename = 'temp_' \n",
    "filekey = [] # instructors will key in this\n",
    "dataframe = {} # this is to store the data for different temperature, the keys are in filekey\n",
    "for idx in range(num_test):\n",
    "    dataframe[filekey[idx]] = pd.read_excel(filename+filekey[idx]+'.xlsx')\n"
   ]
  },
  {
   "cell_type": "code",
   "execution_count": null,
   "metadata": {
    "collapsed": true
   },
   "outputs": [],
   "source": [
    "# write a code to prepare the data for training"
   ]
  },
  {
   "cell_type": "code",
   "execution_count": null,
   "metadata": {
    "collapsed": true
   },
   "outputs": [],
   "source": [
    "# write a code to predict the final temperature\n",
    "# store the predicted temperature in a variable called \"predicted\"\n",
    "# predicted is a dictionary where the keys are listed in filekey\n",
    "\n",
    "predicted = {}\n"
   ]
  },
  {
   "cell_type": "code",
   "execution_count": null,
   "metadata": {
    "collapsed": true
   },
   "outputs": [],
   "source": [
    "# checking accuracy\n",
    "\n",
    "# first instructor will load the actual temp from a pickle object\n",
    "import pickle\n",
    "error_d = {}\n",
    "accuracy_percent_d = {}\n",
    "\n",
    "for test in range(num_test):\n",
    "    filename = 'data_'+filekey[test]+'.pickle'\n",
    "    with open(filename,'rb') as f:\n",
    "        final_temp, worst_temp = pickle.load(f)\n",
    "\n",
    "    # then calculate the error\n",
    "    error_final = abs(final_temp-predicted[filekey[test]])\n",
    "    accuracy_final_percent = 100-error_final/final_temp*100\n",
    "    error_worst = abs(worst_temp-predicted[filekey[test]])\n",
    "    accuracy_worst_percent = 100-error_worst/worst_temp*100\n",
    "    \n",
    "    error_d[filekey[test]] = (error_final, error_worst)\n",
    "    accuracy_percent_d[filekey[test]] = (accuracy_final_percent, accuracy_worst_percent)\n",
    "\n",
    "    # displaying the error\n",
    "    print('===================================')\n",
    "    print('Testing: {}'.format(filekey[test]))\n",
    "    print('Predicted Temp: {:.2f}'.format(predicted[filekey[test]]))\n",
    "    print('Final Sensor Temp: {:.2f}, Alcohol Temp:{:.2f}'.format(final_temp, worst_temp))\n",
    "    print('Error w.r.t Final Sensor Temp: {:.2f} deg, {:.2f}% accuracy'.format(error_final, accuracy_final_percent))\n",
    "    print('Error w.r.t Alcohol Temp: {:.2f} deg, {:.2f}% accuracy'.format(error_worst, accuracy_worst_percent))\n",
    "    \n",
    "avg_final = sum([ final for final, worst in accuracy_percent_d.values()])/len(error_d.values())\n",
    "avg_worst = sum([ worst for final, worst in accuracy_percent_d.values()])/len(error_d.values())\n",
    "print('==============================')\n",
    "print('Average accuracy for final sensor temp: {:.2f}'.format(avg_final))\n",
    "print('AVerage accuracy for alcohol temp: {:.2f}'.format(avg_worst))\n"
   ]
  }
 ],
 "metadata": {
  "kernelspec": {
   "display_name": "Python 3",
   "language": "python",
   "name": "python3"
  },
  "language_info": {
   "codemirror_mode": {
    "name": "ipython",
    "version": 3
   },
   "file_extension": ".py",
   "mimetype": "text/x-python",
   "name": "python",
   "nbconvert_exporter": "python",
   "pygments_lexer": "ipython3",
   "version": "3.6.4"
  }
 },
 "nbformat": 4,
 "nbformat_minor": 2
}
