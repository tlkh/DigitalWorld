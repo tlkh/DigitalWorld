{
 "cells": [
  {
   "cell_type": "code",
   "execution_count": 1,
   "metadata": {},
   "outputs": [
    {
     "name": "stdout",
     "output_type": "stream",
     "text": [
      "Enter your name: Timothy\n",
      "Enter your student ID: 1002653\n",
      "Enter your quiz marks: 10\n",
      "Enter your project marks: 20\n",
      "Enter your final paper marks: 100\n",
      "\n",
      "Dear Timothy (1002653), \n",
      "Your average score is 43.333333333333336.\n"
     ]
    }
   ],
   "source": [
    "class Student:\n",
    "    def __init__(self):\n",
    "        self.name = input(\"Enter your name: \")\n",
    "        self.id = input(\"Enter your student ID: \")\n",
    "        \n",
    "        self.marks = {'quiz': input(\"Enter your quiz marks: \"),\n",
    "         'project': input(\"Enter your project marks: \"),\n",
    "         'final_paper': input(\"Enter your final paper marks: \")}\n",
    "        \n",
    "def getAverage(marks):\n",
    "    total_marks = 0\n",
    "    for item in marks:\n",
    "        try:\n",
    "            total_marks = total_marks + float(marks[item])\n",
    "        except:\n",
    "            print(\"You did not enter one of the score correctly!\")\n",
    "    return total_marks / len(marks)\n",
    "\n",
    "new_student = Student()\n",
    "average_mark = getAverage(new_student.marks)\n",
    "\n",
    "# display the information\n",
    "print(\"\")\n",
    "print(f\"Dear {new_student.name} ({new_student.id}), \")\n",
    "print(f\"Your average score is {average_mark}.\")"
   ]
  },
  {
   "cell_type": "code",
   "execution_count": 2,
   "metadata": {},
   "outputs": [
    {
     "name": "stdout",
     "output_type": "stream",
     "text": [
      "Dear Timothy (1002653), you have failed the course!\n"
     ]
    }
   ],
   "source": [
    "if average_mark > 50:\n",
    "    print(f\"Dear {new_student.name} ({new_student.id}), you have passed the course!\")\n",
    "else:\n",
    "    print(f\"Dear {new_student.name} ({new_student.id}), you have failed the course!\")"
   ]
  },
  {
   "cell_type": "code",
   "execution_count": 3,
   "metadata": {},
   "outputs": [
    {
     "name": "stdout",
     "output_type": "stream",
     "text": [
      "F\n"
     ]
    }
   ],
   "source": [
    "\n",
    "def getGrade(mark):\n",
    "    if mark < 60:\n",
    "        grade = \"F\"\n",
    "    else:\n",
    "        if mark >= 70:\n",
    "            grade = \"C\"\n",
    "            if mark >= 80:\n",
    "                grade = \"B\"\n",
    "            if mark >= 90:\n",
    "                grade = \"A\"\n",
    "        else:\n",
    "            grade = \"D\"\n",
    "    return grade\n",
    "\n",
    "print(getGrade(average_mark))"
   ]
  },
  {
   "cell_type": "code",
   "execution_count": null,
   "metadata": {},
   "outputs": [],
   "source": [
    "# if you really want to?\n",
    "num_students = 40\n",
    "for i in range(num_students+1):\n",
    "    print(f\"Student number {i+1} out of {num_students}\")\n",
    "    student = Student()\n",
    "    average_mark = getAverage(student.marks)\n",
    "    grade = getGrade(average_mark)\n",
    "    print(f\"Dear {student.name} ({student.id}), \")\n",
    "    print(f\"Your average score is {average_mark}. Your grade is {grade}.\")\n",
    "    print(\"\")"
   ]
  }
 ],
 "metadata": {
  "kernelspec": {
   "display_name": "Python 3",
   "language": "python",
   "name": "python3"
  },
  "language_info": {
   "codemirror_mode": {
    "name": "ipython",
    "version": 3
   },
   "file_extension": ".py",
   "mimetype": "text/x-python",
   "name": "python",
   "nbconvert_exporter": "python",
   "pygments_lexer": "ipython3",
   "version": "3.6.4"
  }
 },
 "nbformat": 4,
 "nbformat_minor": 2
}
