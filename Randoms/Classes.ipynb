{
 "cells": [
  {
   "cell_type": "code",
   "execution_count": 1,
   "metadata": {},
   "outputs": [
    {
     "name": "stdout",
     "output_type": "stream",
     "text": [
      "Python 3.6.4\r\n"
     ]
    }
   ],
   "source": [
    "!python3 --version"
   ]
  },
  {
   "cell_type": "code",
   "execution_count": 2,
   "metadata": {},
   "outputs": [
    {
     "name": "stdout",
     "output_type": "stream",
     "text": [
      "<Toyota Corolla> car\n"
     ]
    }
   ],
   "source": [
    "class Vehicle:\n",
    "    kind = 'car' # class variable\n",
    "\n",
    "    def __init__(self, manufacturer, model):\n",
    "        self.manufacturer = manufacturer\n",
    "        self.model_name = model\n",
    "\n",
    "    @property\n",
    "    def name(self):\n",
    "        return f\"{self.manufacturer} {self.model_name}\" \n",
    "    \n",
    "    def __repr__(self):\n",
    "        return f\"<{self.name}>\"\n",
    "\n",
    "car = Vehicle('Toyota', 'Corolla')\n",
    "print(car, car.kind)"
   ]
  },
  {
   "cell_type": "markdown",
   "metadata": {},
   "source": [
    "Changing class variables affect all instances of a class."
   ]
  },
  {
   "cell_type": "code",
   "execution_count": 3,
   "metadata": {},
   "outputs": [
    {
     "name": "stdout",
     "output_type": "stream",
     "text": [
      "car car\n"
     ]
    }
   ],
   "source": [
    "car2 = Vehicle('Honda', 'Civic')\n",
    "print(car.kind, car2.kind)"
   ]
  },
  {
   "cell_type": "code",
   "execution_count": 4,
   "metadata": {},
   "outputs": [
    {
     "name": "stdout",
     "output_type": "stream",
     "text": [
      "scrap scrap\n"
     ]
    }
   ],
   "source": [
    "Vehicle.kind = 'scrap'\n",
    "print(car.kind, car2.kind)"
   ]
  },
  {
   "cell_type": "markdown",
   "metadata": {},
   "source": [
    "Access instances variables (dictionary) using the `__dict__` method"
   ]
  },
  {
   "cell_type": "code",
   "execution_count": 5,
   "metadata": {},
   "outputs": [
    {
     "data": {
      "text/plain": [
       "{'manufacturer': 'Toyota', 'model_name': 'Corolla'}"
      ]
     },
     "execution_count": 5,
     "metadata": {},
     "output_type": "execute_result"
    }
   ],
   "source": [
    "car.__dict__"
   ]
  },
  {
   "cell_type": "markdown",
   "metadata": {},
   "source": [
    "Class attributes can also be access from an instance"
   ]
  },
  {
   "cell_type": "code",
   "execution_count": 6,
   "metadata": {},
   "outputs": [
    {
     "data": {
      "text/plain": [
       "mappingproxy({'__dict__': <attribute '__dict__' of 'Vehicle' objects>,\n",
       "              '__doc__': None,\n",
       "              '__init__': <function __main__.Vehicle.__init__>,\n",
       "              '__module__': '__main__',\n",
       "              '__repr__': <function __main__.Vehicle.__repr__>,\n",
       "              '__weakref__': <attribute '__weakref__' of 'Vehicle' objects>,\n",
       "              'kind': 'scrap',\n",
       "              'name': <property at 0x1076a7368>})"
      ]
     },
     "execution_count": 6,
     "metadata": {},
     "output_type": "execute_result"
    }
   ],
   "source": [
    "car.__class__.__dict__"
   ]
  },
  {
   "cell_type": "code",
   "execution_count": null,
   "metadata": {},
   "outputs": [],
   "source": []
  }
 ],
 "metadata": {
  "kernelspec": {
   "display_name": "Python 3",
   "language": "python",
   "name": "python3"
  },
  "language_info": {
   "codemirror_mode": {
    "name": "ipython",
    "version": 3
   },
   "file_extension": ".py",
   "mimetype": "text/x-python",
   "name": "python",
   "nbconvert_exporter": "python",
   "pygments_lexer": "ipython3",
   "version": "3.6.4"
  }
 },
 "nbformat": 4,
 "nbformat_minor": 2
}
