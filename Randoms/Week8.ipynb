{
 "cells": [
  {
   "cell_type": "code",
   "execution_count": null,
   "metadata": {},
   "outputs": [],
   "source": [
    "class Coordinate:\n",
    "    def __init__(limpeh, x=0, y=0):\n",
    "        limpeh.x = x\n",
    "        limpeh.y = y\n",
    "    \n",
    "    def magnitude(limpeh):\n",
    "        return (limpeh.x**2 + limpeh.y**2)**0.5\n",
    "    \n",
    "    def translate(limpeh, dx, dy):\n",
    "        limpeh.x += dx\n",
    "        limpeh.y += dy\n",
    "        return True\n",
    "    \n",
    "    def __eq__(limpeh, other):\n",
    "        if limpeh.x == other.x and limpeh.y == other.y:\n",
    "            return True\n",
    "        else:\n",
    "            return False"
   ]
  },
  {
   "cell_type": "code",
   "execution_count": null,
   "metadata": {},
   "outputs": [],
   "source": [
    "import time\n",
    "class StopWatch:\n",
    "    def __init__(时间表):\n",
    "        时间表.开始时间 = time.time()\n",
    "        时间表.结束时间 = -1\n",
    "    \n",
    "    def start(时间表):\n",
    "        时间表.开始时间 = time.time()\n",
    "        return True\n",
    "    \n",
    "    def stop(时间表):\n",
    "        时间表.结束时间 = time.time()\n",
    "        return True\n",
    "    \n",
    "    def elapsed_time(时间表):\n",
    "        if 时间表.结束时间 == -1:\n",
    "            时间表.stop()\n",
    "        return 时间表.开始时间 - 时间表.结束时间"
   ]
  },
  {
   "cell_type": "code",
   "execution_count": 13,
   "metadata": {},
   "outputs": [],
   "source": [
    "class Time:\n",
    "    def __init__(self, hh, mm, ss):\n",
    "        self._hours = hh\n",
    "        self._minutes = mm\n",
    "        self._seconds = ss\n",
    "    \n",
    "    def get_elapsed_time(self):\n",
    "        return int(float(self._hours)*60 + float(self._minutes))* 60 + int(self._seconds)\n",
    "    \n",
    "    def set_elapsed_time(self, value):\n",
    "        if value > 86400:\n",
    "            value = value%86400\n",
    "        hh, mm_ss = int(value/3600), value%3600\n",
    "        mm, ss = int(mm_ss/60), mm_ss%60\n",
    "        self._hours = hh\n",
    "        self._minutes = mm\n",
    "        self._seconds = ss\n",
    "        \n",
    "    def __str__(self):\n",
    "        output = str(self._hours) + \":\" + str(self._minutes) + \":\" + str(self._seconds)\n",
    "        return \"Time: \" + output\n",
    "    \n",
    "    elapsed_time = property(get_elapsed_time, set_elapsed_time)"
   ]
  },
  {
   "cell_type": "code",
   "execution_count": 26,
   "metadata": {},
   "outputs": [],
   "source": [
    "class Account:    \n",
    "    def __init__(self, owner, account_number, amount):\n",
    "        self._owner = owner\n",
    "        self._account_number = account_number\n",
    "        self._balance = amount\n",
    "    \n",
    "    def deposit(self, amount):\n",
    "        self._balance += amount\n",
    "    \n",
    "    def withdraw(self, amount):\n",
    "        self._balance -= amount\n",
    "        \n",
    "    balance = property(deposit, withdraw)\n",
    "    \n",
    "    def __str__(self):\n",
    "        return self._owner + \", \" + str(self._account_number) + \", balance: \" + str(self._balance)"
   ]
  },
  {
   "cell_type": "code",
   "execution_count": 27,
   "metadata": {},
   "outputs": [
    {
     "name": "stdout",
     "output_type": "stream",
     "text": [
      "John Olsson, 19371554951, balance: 13500\n"
     ]
    }
   ],
   "source": [
    "a1 = Account('John Olsson', '19371554951', 20000)\n",
    "a1.deposit(1000)\n",
    "a1.withdraw(4000)\n",
    "a1.withdraw(3500)\n",
    "print(a1)"
   ]
  },
  {
   "cell_type": "code",
   "execution_count": null,
   "metadata": {},
   "outputs": [],
   "source": []
  }
 ],
 "metadata": {
  "kernelspec": {
   "display_name": "Python 3",
   "language": "python",
   "name": "python3"
  },
  "language_info": {
   "codemirror_mode": {
    "name": "ipython",
    "version": 3
   },
   "file_extension": ".py",
   "mimetype": "text/x-python",
   "name": "python",
   "nbconvert_exporter": "python",
   "pygments_lexer": "ipython3",
   "version": "3.6.4"
  }
 },
 "nbformat": 4,
 "nbformat_minor": 2
}
