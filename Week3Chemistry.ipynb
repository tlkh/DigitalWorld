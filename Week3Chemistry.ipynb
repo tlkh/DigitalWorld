{
 "cells": [
  {
   "cell_type": "code",
   "execution_count": 1,
   "metadata": {},
   "outputs": [],
   "source": [
    "import math, cmath\n",
    "from sympy import *\n",
    "theta = symbols('theta')\n",
    "init_printing(use_unicode=True)\n",
    "\n",
    "def P_l(l):\n",
    "    \"\"\"Legendre Polynomial\"\"\"\n",
    "    fx = cos(theta)\n",
    "    x = cos(theta)\n",
    "    factor = 1/(2**l * math.factorial(l))\n",
    "    fx = diff((fx**2 - 1)**l, x, l)\n",
    "    P_l = factor * fx\n",
    "    return P_l # SymPy Expression!\n",
    "\n",
    "def Pm_l(m, l):\n",
    "    \"\"\"Associated Legendre Function\"\"\"\n",
    "    fx = cos(theta)\n",
    "    x = cos(theta)\n",
    "    factor = (1-fx**2)**(m/2)\n",
    "    fx = diff(P_l(l), x, abs(m))\n",
    "    Pm_l = factor * fx\n",
    "    return Pm_l # SymPy Expression!\n",
    "\n",
    "def angular_wave_func(m, l, theta_value, phi):\n",
    "    if m > 0:\n",
    "        E = (-1)**m\n",
    "    else:\n",
    "        E = 1\n",
    "    A_factor_1 = (2*l+1)/(4*math.pi)\n",
    "    A_factor_2 = math.factorial(l-abs(m)) / math.factorial(l+abs(m))\n",
    "    A = math.sqrt(A_factor_1*A_factor_2)\n",
    "    B = cmath.exp(m*phi*1j)\n",
    "    C = Pm_l(m,l).subs(theta, theta_value)\n",
    "    long_ans = complex(E * A * B * C.evalf())\n",
    "    ans = round(long_ans.real, 5) + round(long_ans.imag, 5)*1j\n",
    "    return ans"
   ]
  },
  {
   "cell_type": "code",
   "execution_count": 2,
   "metadata": {},
   "outputs": [
    {
     "name": "stdout",
     "output_type": "stream",
     "text": [
      "(0.28209+0j)\n",
      "(-0.4886+0j)\n",
      "(0.34549+0j)\n",
      "(0.63078+0j)\n"
     ]
    }
   ],
   "source": [
    "print(angular_wave_func (0,0,0,0))\n",
    "print(angular_wave_func (0,1,cmath.pi ,0))\n",
    "print(angular_wave_func (1,1,cmath.pi/2,cmath.pi))\n",
    "print(angular_wave_func (0,2,cmath.pi ,0))"
   ]
  },
  {
   "cell_type": "code",
   "execution_count": 3,
   "metadata": {},
   "outputs": [],
   "source": [
    "import math, cmath\n",
    "from sympy import *\n",
    "import scipy.constants as c\n",
    "e = 2.7182818284590452353602874713526624977572\n",
    "r, x, a = symbols('r x a')\n",
    "init_printing(use_unicode=True)\n",
    "\n",
    "def Lq(q,n):\n",
    "    \"\"\"Laguerre Polynomial\"\"\"\n",
    "    factor = e**x\n",
    "    expression = e**(-x) * x**q\n",
    "    A = diff(expression, x, q)\n",
    "    return factor * A\n",
    "\n",
    "def assoc_Lq(p,q,n):\n",
    "    \"\"\"Associated Laguerre Function\"\"\"\n",
    "    factor = (-1)**p\n",
    "    A = diff(Lq(q,n), x, p)\n",
    "    assoc_Lq = (factor * A).subs(x,2*r/(n*a))\n",
    "    return assoc_Lq\n",
    "\n",
    "def radial_wave_func(n, l, radius):\n",
    "    bohr=c.physical_constants['Bohr radius'][0]\n",
    "    A_factor_1 = (2/(n*a))**3\n",
    "    A_factor_2 = (math.factorial(n-l-1)) / (2*n*(math.factorial(n+l))**3)\n",
    "    A = (A_factor_1 * A_factor_2)**0.5\n",
    "    B = e**(-radius/(n*a))\n",
    "    C = ((2*radius)/(n*a))**l\n",
    "    p = 2*l + 1\n",
    "    q = n-l-1+p\n",
    "    D = assoc_Lq(p,q,n)\n",
    "    expression = A * B * C * D / (a**(-3/2))\n",
    "    subbed = expression.subs(r, radius).subs(a, bohr)\n",
    "    return round(subbed.evalf(), 5)"
   ]
  },
  {
   "cell_type": "code",
   "execution_count": 4,
   "metadata": {},
   "outputs": [
    {
     "name": "stdout",
     "output_type": "stream",
     "text": [
      "0.73576\n",
      "0.12381\n",
      "0.15019\n",
      "0.08281\n"
     ]
    }
   ],
   "source": [
    "print(radial_wave_func (1,0,a))\n",
    "print(radial_wave_func (2,1,a))\n",
    "print(radial_wave_func (2,1,2*a))\n",
    "print(radial_wave_func (3,1,2*a))"
   ]
  },
  {
   "cell_type": "code",
   "execution_count": null,
   "metadata": {},
   "outputs": [],
   "source": []
  }
 ],
 "metadata": {
  "kernelspec": {
   "display_name": "Python 3",
   "language": "python",
   "name": "python3"
  },
  "language_info": {
   "codemirror_mode": {
    "name": "ipython",
    "version": 3
   },
   "file_extension": ".py",
   "mimetype": "text/x-python",
   "name": "python",
   "nbconvert_exporter": "python",
   "pygments_lexer": "ipython3",
   "version": "3.6.4"
  }
 },
 "nbformat": 4,
 "nbformat_minor": 2
}
