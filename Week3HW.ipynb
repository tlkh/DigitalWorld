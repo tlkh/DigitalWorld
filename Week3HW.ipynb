{
 "cells": [
  {
   "cell_type": "code",
   "execution_count": 1,
   "metadata": {},
   "outputs": [],
   "source": [
    "def check_value(n1,n2,n3,x):\n",
    "    condition = x > n1 and x > n2 and x < n3\n",
    "    return condition"
   ]
  },
  {
   "cell_type": "code",
   "execution_count": 6,
   "metadata": {},
   "outputs": [],
   "source": [
    "def temp_convert(choice, temp):\n",
    "    condition = choice != \"C\" or choice != \"F\"\n",
    "    if condition == False:\n",
    "        return None\n",
    "    elif choice == \"C\":\n",
    "        return (temp - 32) / 1.8\n",
    "    elif choice == \"F\":\n",
    "        return temp*1.8 + 32"
   ]
  },
  {
   "cell_type": "code",
   "execution_count": null,
   "metadata": {},
   "outputs": [],
   "source": [
    "def get_even_list(ls):\n",
    "    for i, number in enumerate(ls):\n",
    "        if number%2==0:\n",
    "            pass\n",
    "        else:\n",
    "            ls.pop(i)"
   ]
  }
 ],
 "metadata": {
  "kernelspec": {
   "display_name": "Python 3",
   "language": "python",
   "name": "python3"
  },
  "language_info": {
   "codemirror_mode": {
    "name": "ipython",
    "version": 3
   },
   "file_extension": ".py",
   "mimetype": "text/x-python",
   "name": "python",
   "nbconvert_exporter": "python",
   "pygments_lexer": "ipython3",
   "version": "3.6.4"
  }
 },
 "nbformat": 4,
 "nbformat_minor": 2
}
