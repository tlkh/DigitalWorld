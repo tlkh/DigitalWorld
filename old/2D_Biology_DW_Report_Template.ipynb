{
 "cells": [
  {
   "cell_type": "code",
   "execution_count": 1,
   "metadata": {
    "colab": {
     "autoexec": {
      "startup": false,
      "wait_interval": 0
     }
    },
    "colab_type": "code",
    "id": "Knt0jIjXJZVV"
   },
   "outputs": [],
   "source": [
    "import random\n",
    "import math"
   ]
  },
  {
   "cell_type": "markdown",
   "metadata": {
    "colab_type": "text",
    "id": "8GUIaw8ZJZVa"
   },
   "source": [
    "The `__init__` method initializes all parameters to zero by default. If any parameter needs to have a default value, you can set it here. All penalty parameters are set to a default value of 10"
   ]
  },
  {
   "cell_type": "code",
   "execution_count": 2,
   "metadata": {
    "colab": {
     "autoexec": {
      "startup": false,
      "wait_interval": 0
     }
    },
    "colab_type": "code",
    "id": "7PZM0vssJZVb"
   },
   "outputs": [],
   "source": [
    "class PrimerDesign(object):\n",
    "    \n",
    "    def __init__ (self, name):\n",
    "        \"\"\"Initialises the PrimerDesign class with pre-defined variables\"\"\"\n",
    "        \n",
    "        # parameters for the length criterion\n",
    "        self.max_length, self.min_length = 22, 18\n",
    "        self.penalty_length = 10\n",
    "        \n",
    "        # parameters for the temperature difference criterion\n",
    "        self.max_tdiff, self.min_tdiff = 1, 0\n",
    "        self.penalty_tdiff = 10\n",
    "        \n",
    "        # parameters for the cg content criterion\n",
    "        self.max_cg, self.min_cg = 0.6, 0.4\n",
    "        self.penalty_cg = 10\n",
    "        \n",
    "        # parameters for the annealing temperature criterion\n",
    "        self.max_temp, self.min_temp = 65, 52\n",
    "        self.penalty_temp = 10\n",
    "        \n",
    "        # parameters for the run criterion\n",
    "        self.run_threshold = 4\n",
    "        self.penalty_runs = 10\n",
    "        \n",
    "        # parameters for the repeat criterion\n",
    "        self.repeat_threshold = 0\n",
    "        self.penalty_repeats = 10\n",
    "        \n",
    "        # parameters for the specificity criterion\n",
    "        self.penalty_specificity = 10 \n",
    "        \n",
    "        # locations where the forward/revserse primer should be chosen from\n",
    "        self.fp_start, self.fp_end = 100, 200\n",
    "        self.rp_start, self.rp_end = 100, 200\n",
    "        \n",
    "        # parameters for the simulated annealing portion\n",
    "        self.initial_temperature = 200\n",
    "        self.stopping_temperature = 0.01\n",
    "        self.drop_fraction = 0.999\n",
    "        \n",
    "        # self-defined\n",
    "        self.dna_sequence = None"
   ]
  },
  {
   "cell_type": "markdown",
   "metadata": {
    "colab_type": "text",
    "id": "iSs8yCtDJZVd"
   },
   "source": [
    "### Task 2 "
   ]
  },
  {
   "cell_type": "code",
   "execution_count": 3,
   "metadata": {
    "colab": {
     "autoexec": {
      "startup": false,
      "wait_interval": 0
     },
     "base_uri": "https://localhost:8080/",
     "height": 34
    },
    "colab_type": "code",
    "executionInfo": {
     "elapsed": 742,
     "status": "ok",
     "timestamp": 1523542174461,
     "user": {
      "displayName": "Timothy Liu",
      "photoUrl": "//lh4.googleusercontent.com/-dGSoF3PTUms/AAAAAAAAAAI/AAAAAAAAEjo/onM3a4Ivxls/s50-c-k-no/photo.jpg",
      "userId": "115249542303627546492"
     },
     "user_tz": -480
    },
    "id": "ECPk4cHUJZVe",
    "outputId": "f69b1ce1-fdb3-422a-bf6a-0074e2090aee"
   },
   "outputs": [
    {
     "name": "stdout",
     "output_type": "stream",
     "text": [
      "gatgcgcagcgatgcagcacgctagga\n"
     ]
    }
   ],
   "source": [
    "class PrimerDesign(PrimerDesign):\n",
    "    def set_dna_sequence(self, dna_sequence):\n",
    "        \"\"\"\n",
    "        This takes in a string (raw gene sequence) and cleans it up to leave only ATCG.\n",
    "        The result is stored in the PrimerDesign object's dna_sequence.\n",
    "        \"\"\"\n",
    "        output_sequence = \"\"\n",
    "        for character in str(dna_sequence):\n",
    "            if character == \"a\" or character == \"g\" or character == \"t\" or character == \"c\":\n",
    "                output_sequence += character        \n",
    "        self.dna_sequence = output_sequence\n",
    "        \n",
    "# test code\n",
    "test = PrimerDesign(\"DNA\")\n",
    "test.set_dna_sequence(\"gs1atgcgciuahdogciygatgcagcacgctah2872gh87xgsau\")\n",
    "print(test.dna_sequence)"
   ]
  },
  {
   "cell_type": "markdown",
   "metadata": {
    "colab_type": "text",
    "id": "M-zQdKppJZVu"
   },
   "source": [
    "### Task 3"
   ]
  },
  {
   "cell_type": "code",
   "execution_count": 4,
   "metadata": {
    "colab": {
     "autoexec": {
      "startup": false,
      "wait_interval": 0
     },
     "base_uri": "https://localhost:8080/",
     "height": 71
    },
    "colab_type": "code",
    "executionInfo": {
     "elapsed": 762,
     "status": "ok",
     "timestamp": 1523542176649,
     "user": {
      "displayName": "Timothy Liu",
      "photoUrl": "//lh4.googleusercontent.com/-dGSoF3PTUms/AAAAAAAAAAI/AAAAAAAAEjo/onM3a4Ivxls/s50-c-k-no/photo.jpg",
      "userId": "115249542303627546492"
     },
     "user_tz": -480
    },
    "id": "MTVnV06CJZVv",
    "outputId": "2df87b93-a4aa-435c-ebab-2613ea8030b5"
   },
   "outputs": [
    {
     "name": "stdout",
     "output_type": "stream",
     "text": [
      "Forward primer: ['c', 'a', 'g', 'g', 'c', 'g', 'c', 'c', 't', 'c', 'g', 't', 'g', 'a', 'g', 'a', 'c', 'c', 'a', 't']\n",
      "Reverse primer: ['a', 'g', 'c', 'g', 't', 't', 'a', 'c', 'c', 'a', 'g', 'a', 'g', 't', 'g', 'c', 't', 'c', 'c', 'g']\n"
     ]
    }
   ],
   "source": [
    "class PrimerDesign(PrimerDesign):\n",
    "    def func_select_random(self, sqtype='forward', length=20):        \n",
    "        \"\"\"\n",
    "        Selects a forward or reverse primer at random with a specified length.\n",
    "        \"\"\"\n",
    "        rand_primer_sequence, counter = [], []\n",
    "        \n",
    "        if sqtype=='forward':\n",
    "            start_limit = self.fp_start \n",
    "            end_limit = self.fp_end \n",
    "            x_first = random.randint(start_limit, end_limit-length)\n",
    "            x_end = x_first + length\n",
    "            \n",
    "            for index in range(x_first, x_end, 1):\n",
    "                for character in self.dna_sequence[index-1]:\n",
    "                    rand_primer_sequence.append(character)\n",
    "                    counter.append(index)\n",
    "            return rand_primer_sequence\n",
    "        \n",
    "        elif sqtype=='reverse':\n",
    "            start_limit = self.rp_start \n",
    "            end_limit = self.rp_end\n",
    "            y_first = random.randint(start_limit + length, end_limit)\n",
    "            y_end = y_first - length\n",
    "        \n",
    "            for index in range(y_first, y_end, -1):\n",
    "                for character in self.dna_sequence[index-1]:\n",
    "                    rand_primer_sequence.append(character)\n",
    "                    counter.append(index)\n",
    "            return rand_primer_sequence\n",
    "        \n",
    "        else: return None\n",
    "        \n",
    "# test code\n",
    "test = PrimerDesign('DNA')\n",
    "dna_sequence_1 = 'gtcttctactattcgaggccgttcgttaatacttgttgcgttcctagccgctatatttgtctctttgccgactaatgtgaacaaccacaccatagcgatttatcggagcgcctcggaatacggtatgagcaggcgcctcgtgagaccattgcgaataccaggtatcgtgtaagtagcgaaggcccgtacgcgagataaac'\n",
    "test.set_dna_sequence(dna_sequence_1)\n",
    "print(\"Forward primer:\", test.func_select_random('forward')) # TODO:\n",
    "print(\"Reverse primer:\", test.func_select_random('reverse')) # string or list????"
   ]
  },
  {
   "cell_type": "markdown",
   "metadata": {
    "colab_type": "text",
    "id": "NuyqJBR_JZWJ"
   },
   "source": [
    "### Task 4\n",
    "Write methods that calculates the following properties for a given primer string:\n",
    "\n",
    "* Its length\n",
    "* The annealing temperature\n",
    "* The fraction of cg bases\n",
    "* The number of runs present\n",
    "* The number of repeats present"
   ]
  },
  {
   "cell_type": "code",
   "execution_count": 5,
   "metadata": {
    "colab": {
     "autoexec": {
      "startup": false,
      "wait_interval": 0
     }
    },
    "colab_type": "code",
    "id": "jISxo92wJZWL"
   },
   "outputs": [],
   "source": [
    "from fractions import Fraction\n",
    "\n",
    "sqA = 'cattaaaaatacgaaaaaagtcat'\n",
    "sqB = 'atatatatattttatatataa'\n",
    "sqC = ''\n",
    "\n",
    "class PrimerDesign(PrimerDesign): \n",
    "    def func_length(self, sq):\n",
    "        \"\"\"Returns the length of a sequence\"\"\"\n",
    "        return len(sq) \n",
    "    \n",
    "    def func_cg_fraction(self, sq):\n",
    "        \"\"\"Returns the fraction of C/G bases in a sequence\"\"\"\n",
    "        output = []\n",
    "        for base in sq:\n",
    "            if base == 'c' or base == 'g':\n",
    "                output.append(base)\n",
    "        if len(sq)!=0:        \n",
    "            cg_fraction = Fraction(len(output),len(sq))\n",
    "            return cg_fraction\n",
    "        else:\n",
    "            return 0\n",
    "    \n",
    "    def func_temperature(self,sq):\n",
    "        \"\"\"Returns the annealing temperature of a primer sequence\"\"\"\n",
    "        Cs = sq.count('c')\n",
    "        Gs = sq.count('g')\n",
    "        As = sq.count('a')\n",
    "        Ts = sq.count('t')\n",
    "        Ta = 4*(Gs+Cs)+2*(As+Ts)\n",
    "        return Ta\n",
    "\n",
    "# test code\n",
    "# TODO"
   ]
  },
  {
   "cell_type": "code",
   "execution_count": 6,
   "metadata": {
    "colab": {
     "autoexec": {
      "startup": false,
      "wait_interval": 0
     }
    },
    "colab_type": "code",
    "id": "v05t5nXcJZWT"
   },
   "outputs": [],
   "source": [
    "class PrimerDesign(PrimerDesign):\n",
    "    def func_count_runs(self,sq):\n",
    "        \"\"\"\n",
    "        Returns the number of runs (sequence of repeated bases) present in a sequence.\n",
    "        The condition for a run is defined by self.run_threshold in __init__()\n",
    "        \"\"\"\n",
    "        counter = 0\n",
    "        run = 0\n",
    "        sq = list(sq)\n",
    "        for index, character in enumerate(sq):\n",
    "            current_char = sq[index]\n",
    "            prev_char = sq[index-1]\n",
    "            \n",
    "            if current_char == prev_char: counter += 1\n",
    "                \n",
    "            elif current_char != prev_char:\n",
    "                if counter >= self.run_threshold: run+=1\n",
    "                counter = 0\n",
    "                    \n",
    "            if index==(len(sq)-1): # last letter in sequence\n",
    "                if counter >= self.run_threshold: run+=1\n",
    "                counter = 0\n",
    "        return run\n",
    "    \n",
    "# test code\n",
    "# TODO"
   ]
  },
  {
   "cell_type": "code",
   "execution_count": 7,
   "metadata": {
    "colab": {
     "autoexec": {
      "startup": false,
      "wait_interval": 0
     }
    },
    "colab_type": "code",
    "id": "AzDFG7p2JZWa"
   },
   "outputs": [
    {
     "name": "stdout",
     "output_type": "stream",
     "text": [
      "Test 1: 8 , correct: 8\n",
      "Test 2: 7 , correct: 7\n"
     ]
    }
   ],
   "source": [
    "class PrimerDesign(PrimerDesign):\n",
    "    def func_count_repeats(self, sq):\n",
    "        \"\"\"\n",
    "        Returns the number of repeats in a sequence.\n",
    "        The threshold for a repeat is defined by self.repeat_threshold in __init__()\n",
    "        \"\"\"\n",
    "        di_repeats = ['at','ac','ag',\n",
    "                      'ca','ct','cg',\n",
    "                      'ga','gt','gc',\n",
    "                      'ta','tc','tg']\n",
    "        A, B = [], []\n",
    "        repeats = 0\n",
    "\n",
    "        if len(sq) > 0:\n",
    "            for index in range(len(sq)//2):\n",
    "                A+=[sq[index*2:index*2+2]]\n",
    "                B+=[sq[index*2-1:index*2+1]]\n",
    "            B.remove('')\n",
    "            for s in range(0, len(A)-1):\n",
    "                if A[s] == A[s+1] and A[s] in di_repeats:\n",
    "                    repeats += 1\n",
    "            for s in range(0, len(B)-1):\n",
    "                if B[s] == B[s+1] and B[s] in di_repeats:\n",
    "                    repeats += 1\n",
    "            return repeats\n",
    "        elif len(sq) == 0: return 0\n",
    "        \n",
    "# test code\n",
    "sq1 = \"acacacttcgcgcgcg\"\n",
    "sq2 = \"gtacacacttacacacag\"\n",
    "test = PrimerDesign('DNA')\n",
    "print(\"Test 1:\", test.func_count_repeats(sq1), \", correct: 8\")\n",
    "print(\"Test 2:\", test.func_count_repeats(sq2), \", correct: 7\")"
   ]
  },
  {
   "cell_type": "markdown",
   "metadata": {
    "colab_type": "text",
    "id": "6DCIpSFsJZWj"
   },
   "source": [
    "### Task 5"
   ]
  },
  {
   "cell_type": "code",
   "execution_count": 8,
   "metadata": {
    "colab": {
     "autoexec": {
      "startup": false,
      "wait_interval": 0
     },
     "base_uri": "https://localhost:8080/",
     "height": 34
    },
    "colab_type": "code",
    "executionInfo": {
     "elapsed": 808,
     "status": "ok",
     "timestamp": 1523542234506,
     "user": {
      "displayName": "Timothy Liu",
      "photoUrl": "//lh4.googleusercontent.com/-dGSoF3PTUms/AAAAAAAAAAI/AAAAAAAAEjo/onM3a4Ivxls/s50-c-k-no/photo.jpg",
      "userId": "115249542303627546492"
     },
     "user_tz": -480
    },
    "id": "yfscwTggJZWk",
    "outputId": "8ddceeca-d839-4d72-83b3-b61e830571c7"
   },
   "outputs": [],
   "source": [
    "class PrimerDesign(PrimerDesign):\n",
    "    def cost_length(self, sq):\n",
    "        \"\"\"\n",
    "        Mathematical Function: cost_primerlength(sq) [given in pg 3]\n",
    "        Acceptable range is defined by self.max_length and self.min_length\n",
    "        \"\"\"\n",
    "        sq_len = len(sq)\n",
    "        if sq_len > self.max_length:\n",
    "            return (sq_len-self.max_length)*self.penalty_length\n",
    "        elif sq_len < self.min_length:\n",
    "            return (self.min_length-sq_len)*self.penalty_length\n",
    "        else: # criterion is met\n",
    "            return 0 \n",
    "        \n",
    "    def cost_temperature(self, sq):\n",
    "        \"\"\"\n",
    "        Mathematical Function: cost_annealtemperature(sq) [given in pg 4]\n",
    "        Acceptable range is defined by self.max_temp and self.min_temp\n",
    "        \"\"\"\n",
    "        sq_temp = self.func_temperature(sq)\n",
    "        if sq_temp > self.max_temp:\n",
    "            return self.penalty_temp*(sq_temp-self.max_temp)\n",
    "        elif sq_temp < self.min_temp:\n",
    "            return self.penalty_temp*(self.min_temp-sq_temp)\n",
    "        else: # criterion is met\n",
    "            return 0\n",
    "        \n",
    "    def cost_temperature_difference(self, fp, rp):\n",
    "        \"\"\"\n",
    "        Mathematical Function: cost_temperaturedifference(sq) [given in pg 4]\n",
    "        Acceptable range is defined by self.max_tdiff\n",
    "        \"\"\"\n",
    "        t_forward = self.func_temperature(fp)\n",
    "        t_reverse = self.func_temperature(rp)\n",
    "        delta_t = abs(t_forward - t_reverse)\n",
    "        if delta_t > self.max_tdiff:\n",
    "            return self.penalty_temp * (delta_t-self.max_tdiff)\n",
    "        else:\n",
    "            return 0\n",
    "        \n",
    "    def cost_runs(self, sq):\n",
    "        \"\"\"\n",
    "        Mathematical Function: cost_runs(sq) [given in pg 4]\n",
    "        \"\"\"\n",
    "        numruns = self.func_count_runs(sq)\n",
    "        return self.penalty_runs * numruns\n",
    "\n",
    "    def cost_cgcontent(self,sq):\n",
    "        \"\"\"\n",
    "        Mathematical Function: cost_cgcontent(sq) [given in pg 5]\n",
    "        Acceptable range is defined by self.max_cg and self.min_cg\n",
    "        \"\"\"\n",
    "        cg_fraction = self.func_cg_fraction(sq)\n",
    "        if cg_fraction > self.max_cg:\n",
    "            return self.penalty_cg*(cg_fraction-self.max_cg)\n",
    "        elif cg_fraction < self.min_cg:\n",
    "            return self.penalty_cg*(self.min_cg-cg_fraction)\n",
    "        else: # criterion is met\n",
    "            return 0\n",
    "        \n",
    "    def cost_specificity(self, sq):\n",
    "        \"\"\"\n",
    "        Mathematical Function: cost_specificity(sq) [given in pg 5]\n",
    "        Returns a function of the number of occurences of the primer in self.dna_sequence\n",
    "        \"\"\"\n",
    "        n_pos = self.dna_sequence.count(sq)\n",
    "        if n_pos > 0: return self.penalty_specificity * (n_pos - 1)\n",
    "        else: return 0\n",
    "\n",
    "    def cost_repeats(self,sq):\n",
    "        \"\"\"\n",
    "        Mathematical Function: cost_repeats(sq) [given in pg 5]\n",
    "        Returns a function of the number of repeats in the primer.\n",
    "        \"\"\"\n",
    "        repeats = self.func_count_repeats(sq)\n",
    "        return self.penalty_repeats * repeats"
   ]
  },
  {
   "cell_type": "markdown",
   "metadata": {
    "colab_type": "text",
    "id": "7O8w_X1oJZWm"
   },
   "source": [
    "### Task 6"
   ]
  },
  {
   "cell_type": "code",
   "execution_count": 9,
   "metadata": {
    "colab": {
     "autoexec": {
      "startup": false,
      "wait_interval": 0
     }
    },
    "colab_type": "code",
    "id": "yx8bAVCwJZWn"
   },
   "outputs": [],
   "source": [
    "class PrimerDesign(PrimerDesign):\n",
    "    \n",
    "    def cost_objective_function(self, fp, rp):\n",
    "        '''\n",
    "        Complete cost function to evaluate suitability of a primer.\n",
    "        This is the sum of all the individual cost functions (Task 5).\n",
    "        '''\n",
    "        \n",
    "        cost_forward = sum([self.cost_length(fp),\n",
    "                        self.cost_temperature(fp),\n",
    "                        self.cost_runs(fp),\n",
    "                        self.cost_cgcontent(fp),\n",
    "                        self.cost_specificity(fp),\n",
    "                        self.cost_repeats(fp)])\n",
    "        \n",
    "        cost_reverse = sum([self.cost_length(rp),\n",
    "                        self.cost_temperature(rp),\n",
    "                        self.cost_runs(rp),\n",
    "                        self.cost_cgcontent(rp),\n",
    "                        self.cost_specificity(rp),\n",
    "                        self.cost_repeats(fp)])\n",
    "        \n",
    "        total_cost = self.cost_temperature_difference(fp, rp) + cost_forward + cost_reverse\n",
    "        \n",
    "        return total_cost "
   ]
  },
  {
   "cell_type": "markdown",
   "metadata": {
    "colab_type": "text",
    "id": "1vdmxXVzJZWr"
   },
   "source": [
    "### Task 7"
   ]
  },
  {
   "cell_type": "code",
   "execution_count": 10,
   "metadata": {
    "colab": {
     "autoexec": {
      "startup": false,
      "wait_interval": 0
     }
    },
    "colab_type": "code",
    "id": "sVzC573OJZWs"
   },
   "outputs": [],
   "source": [
    "class PrimerDesign(PrimerDesign):\n",
    "    \n",
    "    def reverse_complement(self, rp):\n",
    "        output = \"\"\n",
    "        for char in rp:\n",
    "            if char==\"a\": output = output + \"t\"\n",
    "            elif char==\"t\": output = output + \"a\"\n",
    "            elif char==\"c\": output = output + \"g\"\n",
    "            elif char==\"g\": output = output + \"c\"\n",
    "            else: print(\"[!] Error:\", char, \"not a proper base, skipping\")\n",
    "        return output\n",
    "\n",
    "    def cost_objective_function_info(self, fp, rp):\n",
    "        print(\"\"\"\n",
    "`-:-.   ,-;\"`-:-.   ,-;\"`-:-.   ,-;\"`-:-.   ,-;\"\n",
    "   `=`,'=/     `=`,'=/     `=`,'=/     `=`,'=/\n",
    "     y==/        y==/        y==/        y==/\n",
    "   ,=,-<=`.    ,=,-<=`.    ,=,-<=`.    ,=,-<=`.\n",
    ",-'-'   `-=_,-'-'   `-=_,-'-'   `-=_,-'-'   `-=_\"\"\")\n",
    "        \n",
    "        labels = [\"length:\",\n",
    "                  \"annealing temperature:\",\n",
    "                  \"%cg_content:\",\n",
    "                  \"specificity:\",\n",
    "                  \"runs:\",\n",
    "                  \"repeats:\"]\n",
    "        \n",
    "        cost_forward = [self.cost_length(fp),\n",
    "                        self.cost_temperature(fp),\n",
    "                        self.cost_cgcontent(fp),\n",
    "                        self.cost_specificity(fp),\n",
    "                        self.cost_runs(fp),\n",
    "                        self.cost_repeats(fp)]\n",
    "        \n",
    "        cost_reverse = [self.cost_length(rp),\n",
    "                        self.cost_temperature(rp),\n",
    "                        self.cost_cgcontent(rp),\n",
    "                        self.cost_specificity(rp),\n",
    "                        self.cost_runs(rp),\n",
    "                        self.cost_repeats(rp)]\n",
    "        \n",
    "        print(\"\\n=== Forward Primer ===>\", fp)\n",
    "        print(\"\\nCriterion\".ljust(25), \"Cost function score\")\n",
    "        print(\"----------------------------------------------\")\n",
    "        for n, cost in enumerate(cost_forward):\n",
    "            print(labels[n].ljust(25), round(cost,3))\n",
    "        print(\"\\n=== Reverse Primer ===>\", self.reverse_complement(rp))\n",
    "        print(\"\\nCriterion\".ljust(25), \"Cost function score\")\n",
    "        print(\"----------------------------------------------\")\n",
    "        for n, cost in enumerate(cost_reverse):\n",
    "            print(labels[n].ljust(25), round(cost,3))\n",
    "        print(\"\\n===    Overall    ===\")\n",
    "        # TODO!!!!\n",
    "        print(\"Temperature Difference:\", \"TODO\")\n",
    "        print(\"Total cost:\", self.cost_objective_function(fp, rp))"
   ]
  },
  {
   "cell_type": "markdown",
   "metadata": {
    "colab_type": "text",
    "id": "4f4fGVzlJZWu"
   },
   "source": [
    "### Task 10"
   ]
  },
  {
   "cell_type": "code",
   "execution_count": 11,
   "metadata": {
    "colab": {
     "autoexec": {
      "startup": false,
      "wait_interval": 0
     }
    },
    "colab_type": "code",
    "id": "vw6-5sNyJZWu"
   },
   "outputs": [
    {
     "data": {
      "text/plain": [
       "'\\n# optional task\\nclass PrimerDesign(PrimerDesign): \\n    \\n    def func_simulated_annealing(self):\\n        \\n        temperature = self.initial_temperature\\n        stopping_temperature = self.stopping_temperature\\n        drop = self.drop_fraction\\n        \\n        pass \\n'"
      ]
     },
     "execution_count": 11,
     "metadata": {},
     "output_type": "execute_result"
    }
   ],
   "source": [
    "\"\"\"\n",
    "# optional task\n",
    "class PrimerDesign(PrimerDesign): \n",
    "    \n",
    "    def func_simulated_annealing(self):\n",
    "        \n",
    "        temperature = self.initial_temperature\n",
    "        stopping_temperature = self.stopping_temperature\n",
    "        drop = self.drop_fraction\n",
    "        \n",
    "        pass \n",
    "\"\"\""
   ]
  },
  {
   "cell_type": "markdown",
   "metadata": {
    "colab_type": "text",
    "id": "Ei4A5AFCJZWy"
   },
   "source": [
    "### Store the DNA sequence given to you in the variable below "
   ]
  },
  {
   "cell_type": "code",
   "execution_count": 12,
   "metadata": {
    "colab": {
     "autoexec": {
      "startup": false,
      "wait_interval": 0
     }
    },
    "colab_type": "code",
    "id": "SySGhNcIJZWz"
   },
   "outputs": [],
   "source": [
    "# test code\n",
    "fp = \"catcaagcaggtctgttccaagggcc\"\n",
    "rp = \"ctgcgtcgggcgtccgtcggggtgtg\"\n",
    "dna_sequence_1 = 'gtcttctactattcgaggccgttcgttaatacttgttgcgttcctagccgctatatttgtctctttgccgactaatgtgaacaaccacaccatagcgatttatcggagcgcctcggaatacggtatgagcaggcgcctcgtgagaccattgcgaataccaggtatcgtgtaagtagcgaaggcccgtacgcgagataaac'"
   ]
  },
  {
   "cell_type": "markdown",
   "metadata": {
    "colab_type": "text",
    "id": "O8yWWEgeJZW2"
   },
   "source": [
    "### Instantiate your class and read in the DNA sequence"
   ]
  },
  {
   "cell_type": "code",
   "execution_count": 13,
   "metadata": {
    "colab": {
     "autoexec": {
      "startup": false,
      "wait_interval": 0
     }
    },
    "colab_type": "code",
    "id": "cDvkOnmtJZW4"
   },
   "outputs": [],
   "source": [
    "test = PrimerDesign('DNA')\n",
    "test.set_dna_sequence(dna_sequence_1)"
   ]
  },
  {
   "cell_type": "markdown",
   "metadata": {
    "colab_type": "text",
    "id": "WlvlKOQ0JZW8"
   },
   "source": [
    "### If you need to adjust any parameter from their default values in the init method, do it here"
   ]
  },
  {
   "cell_type": "code",
   "execution_count": null,
   "metadata": {
    "colab": {
     "autoexec": {
      "startup": false,
      "wait_interval": 0
     }
    },
    "colab_type": "code",
    "id": "B8w1fJm2JZW-"
   },
   "outputs": [],
   "source": []
  },
  {
   "cell_type": "markdown",
   "metadata": {
    "colab_type": "text",
    "id": "GUDpAnSOJZXC"
   },
   "source": [
    "### Show the outcome of your testing and the functions in the subsequent cells "
   ]
  },
  {
   "cell_type": "code",
   "execution_count": 14,
   "metadata": {},
   "outputs": [
    {
     "name": "stdout",
     "output_type": "stream",
     "text": [
      "\n",
      "`-:-.   ,-;\"`-:-.   ,-;\"`-:-.   ,-;\"`-:-.   ,-;\"\n",
      "   `=`,'=/     `=`,'=/     `=`,'=/     `=`,'=/\n",
      "     y==/        y==/        y==/        y==/\n",
      "   ,=,-<=`.    ,=,-<=`.    ,=,-<=`.    ,=,-<=`.\n",
      ",-'-'   `-=_,-'-'   `-=_,-'-'   `-=_,-'-'   `-=_\n",
      "\n",
      "=== Forward Primer ===> catcaagcaggtctgttccaagggcc\n",
      "\n",
      "Criterion                Cost function score\n",
      "----------------------------------------------\n",
      "length:                   40\n",
      "annealing temperature:    170\n",
      "%cg_content:              0\n",
      "specificity:              0\n",
      "runs:                     0\n",
      "repeats:                  0\n",
      "\n",
      "=== Reverse Primer ===> gacgcagcccgcaggcagccccacac\n",
      "\n",
      "Criterion                Cost function score\n",
      "----------------------------------------------\n",
      "length:                   40\n",
      "annealing temperature:    270\n",
      "%cg_content:              1.692\n",
      "specificity:              0\n",
      "runs:                     0\n",
      "repeats:                  20\n",
      "\n",
      "===    Overall    ===\n",
      "Temperature Difference: TODO\n",
      "Total cost: 611.6923076923076\n"
     ]
    }
   ],
   "source": [
    "test.cost_objective_function_info(fp, rp)"
   ]
  },
  {
   "cell_type": "code",
   "execution_count": null,
   "metadata": {},
   "outputs": [],
   "source": []
  },
  {
   "cell_type": "code",
   "execution_count": null,
   "metadata": {},
   "outputs": [],
   "source": []
  }
 ],
 "metadata": {
  "colab": {
   "collapsed_sections": [],
   "default_view": {},
   "name": "2D Biology-DW Report Template.ipynb",
   "provenance": [],
   "version": "0.3.2",
   "views": {}
  },
  "kernelspec": {
   "display_name": "Python 3",
   "language": "python",
   "name": "python3"
  },
  "language_info": {
   "codemirror_mode": {
    "name": "ipython",
    "version": 3
   },
   "file_extension": ".py",
   "mimetype": "text/x-python",
   "name": "python",
   "nbconvert_exporter": "python",
   "pygments_lexer": "ipython3",
   "version": "3.6.4"
  }
 },
 "nbformat": 4,
 "nbformat_minor": 1
}
