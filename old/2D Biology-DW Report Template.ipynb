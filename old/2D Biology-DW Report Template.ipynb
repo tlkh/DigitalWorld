{
 "cells": [
  {
   "cell_type": "code",
   "execution_count": 1,
   "metadata": {
    "collapsed": true
   },
   "outputs": [],
   "source": [
    "import random\n",
    "import math"
   ]
  },
  {
   "cell_type": "markdown",
   "metadata": {},
   "source": [
    "## The init method initializes all parameters to zero. \n",
    "\n",
    "### If any parameter needs to have a default value, you can set it here. \n",
    "\n",
    "### All penalty parameters are set to a default value of 10"
   ]
  },
  {
   "cell_type": "code",
   "execution_count": 3,
   "metadata": {
    "collapsed": true
   },
   "outputs": [],
   "source": [
    "class PrimerDesign(object):\n",
    "    \n",
    "    def __init__ (self, name):\n",
    "        \n",
    "        '''parameters for the length criterion'''\n",
    "        self.max_length = 0\n",
    "        self.min_length = 0\n",
    "        self.penalty_length = 10\n",
    "        \n",
    "        '''parameters for the temperature difference criterion'''\n",
    "        self.max_tdiff = 0\n",
    "        self.min_tdiff = 0\n",
    "        self.penalty_tdiff = 10\n",
    "        \n",
    "        '''parameters for the cg content criterion'''\n",
    "        self.max_cg = 0\n",
    "        self.min_cg = 0\n",
    "        self.penalty_cg = 10\n",
    "        \n",
    "        '''parameters for the annealing temperature criterion'''\n",
    "        self.max_temp = 0\n",
    "        self.min_temp = 0\n",
    "        self.penalty_temp = 10\n",
    "        \n",
    "        '''parameters for the run criterion'''\n",
    "        self.run_threshold = 0\n",
    "        self.penalty_runs = 10\n",
    "        \n",
    "        '''parameters for the repeat criterion'''\n",
    "        self.repeat_threshold = 0\n",
    "        self.penalty_repeats = 10\n",
    "        \n",
    "        '''parameters for the specificity criterion'''\n",
    "        self.penalty_specificity = 10 \n",
    "        \n",
    "        '''locations where the forward primer should be chosen from'''\n",
    "        self.fp_start = 0\n",
    "        self.fp_end = 0\n",
    "        \n",
    "        '''locations where the reverse primer should be chosen from'''\n",
    "        self.rp_start = 0\n",
    "        self.rp_end = 0\n",
    "        \n",
    "        ''' parameters for the simulated annealing portion'''\n",
    "        self.initial_temperature = 200\n",
    "        self.stopping_temperature = 0.01\n",
    "        self.drop_fraction = 0.999\n",
    "        "
   ]
  },
  {
   "cell_type": "markdown",
   "metadata": {},
   "source": [
    "### Task 2 "
   ]
  },
  {
   "cell_type": "code",
   "execution_count": 5,
   "metadata": {
    "collapsed": true
   },
   "outputs": [],
   "source": [
    "class PrimerDesign(PrimerDesign): \n",
    "    \n",
    "    def set_dna_sequence(self, dna_sequence):\n",
    "        pass \n",
    "        self.dna_sequence = dna_sequence "
   ]
  },
  {
   "cell_type": "markdown",
   "metadata": {},
   "source": [
    "### Task 3"
   ]
  },
  {
   "cell_type": "code",
   "execution_count": 6,
   "metadata": {},
   "outputs": [
    {
     "ename": "SyntaxError",
     "evalue": "invalid syntax (<ipython-input-6-42f9cd13a55f>, line 21)",
     "output_type": "error",
     "traceback": [
      "\u001b[0;36m  File \u001b[0;32m\"<ipython-input-6-42f9cd13a55f>\"\u001b[0;36m, line \u001b[0;32m21\u001b[0m\n\u001b[0;31m    return pass\u001b[0m\n\u001b[0m              ^\u001b[0m\n\u001b[0;31mSyntaxError\u001b[0m\u001b[0;31m:\u001b[0m invalid syntax\n"
     ]
    }
   ],
   "source": [
    "class PrimerDesign(PrimerDesign):\n",
    "    \n",
    "    def func_select_random(self, sqtype='forward', length = 20 ):\n",
    "        \n",
    "        '''the length has to be a positive number'''\n",
    "        \n",
    "        if(sqtype == 'forward'):\n",
    "            start_limit = self.fp_start \n",
    "            end_limit = self.fp_end \n",
    "            \n",
    "        elif(sqtype == 'reverse'):\n",
    "        \n",
    "            start_limit = self.rp_start \n",
    "            end_limit = self.rp_end\n",
    "        \n",
    "        else: \n",
    "            return None\n",
    "            \n",
    "        pass \n",
    "\n"
   ]
  },
  {
   "cell_type": "markdown",
   "metadata": {},
   "source": [
    "### Task 4"
   ]
  },
  {
   "cell_type": "code",
   "execution_count": 278,
   "metadata": {
    "collapsed": true
   },
   "outputs": [],
   "source": [
    "class PrimerDesign(PrimerDesign): \n",
    "    \n",
    "    def func_length(self, sq):\n",
    "        pass \n",
    "    \n",
    "    def func_cg_fraction(self, sq):\n",
    "        pass\n",
    "    \n",
    "    def func_temperature(self,sq):\n",
    "        pass\n",
    "            "
   ]
  },
  {
   "cell_type": "code",
   "execution_count": 279,
   "metadata": {
    "collapsed": true
   },
   "outputs": [],
   "source": [
    "class PrimerDesign(PrimerDesign):\n",
    "\n",
    "    def func_count_runs(self,sq):\n",
    "        pass "
   ]
  },
  {
   "cell_type": "code",
   "execution_count": 7,
   "metadata": {
    "collapsed": true
   },
   "outputs": [],
   "source": [
    "class PrimerDesign(PrimerDesign):\n",
    "    def func_count_repeats(self,sq):\n",
    "        \n",
    "        di_repeats = ['at','ac','ag','ca','ct','cg','ga','gt','gc','ta','tc','tg']\n",
    "        pass "
   ]
  },
  {
   "cell_type": "markdown",
   "metadata": {},
   "source": [
    "### Task 5"
   ]
  },
  {
   "cell_type": "code",
   "execution_count": 8,
   "metadata": {
    "collapsed": true
   },
   "outputs": [],
   "source": [
    "class PrimerDesign(PrimerDesign):\n",
    "    \n",
    "    def cost_length(self, sq):\n",
    "        '''This is given to you as an example '''\n",
    "        sq_len = len(sq)\n",
    "        if(sq_len > self.max_length):\n",
    "            return (sq_len - self.max_length)*self.penalty_length\n",
    "        elif(sq_len > self.min_length):\n",
    "            return 0\n",
    "        else:\n",
    "            return (self.min_length - sq_len)*self.penalty_length \n",
    "    \n",
    "    def cost_temperature(self, sq):\n",
    "        pass \n",
    "        \n",
    "    def cost_cgcontent(self,sq):\n",
    "        pass\n",
    "        \n",
    "    def cost_temperature_difference(self, fp, rp):\n",
    "        pass\n",
    "    \n",
    "    def cost_specificity(self, sq):\n",
    "        pass\n",
    "    \n",
    "    def cost_runs(self, sq):\n",
    "        pass\n",
    "    \n",
    "    def cost_repeats(self,sq):\n",
    "        pass "
   ]
  },
  {
   "cell_type": "markdown",
   "metadata": {},
   "source": [
    "### Task 6"
   ]
  },
  {
   "cell_type": "code",
   "execution_count": null,
   "metadata": {
    "collapsed": true
   },
   "outputs": [],
   "source": [
    "class PrimerDesign(PrimerDesign):\n",
    "    \n",
    "    def cost_objective_function(self, fp, rp):\n",
    "        '''complete the calculation of the cost'''\n",
    "        cost = 0        \n",
    "        return cost \n",
    "        "
   ]
  },
  {
   "cell_type": "markdown",
   "metadata": {},
   "source": [
    "### Task 7"
   ]
  },
  {
   "cell_type": "code",
   "execution_count": 10,
   "metadata": {
    "collapsed": true
   },
   "outputs": [],
   "source": [
    "class PrimerDesign(PrimerDesign):\n",
    "    \n",
    "    def cost_objective_function_info(self, fp, rp):\n",
    "        pass "
   ]
  },
  {
   "cell_type": "markdown",
   "metadata": {},
   "source": [
    "### Task 10"
   ]
  },
  {
   "cell_type": "code",
   "execution_count": 11,
   "metadata": {
    "collapsed": true
   },
   "outputs": [],
   "source": [
    "class PrimerDesign(PrimerDesign): \n",
    "    \n",
    "    def func_simulated_annealing(self):\n",
    "        \n",
    "        temperature = self.initial_temperature\n",
    "        stopping_temperature = self.stopping_temperature\n",
    "        drop = self.drop_fraction\n",
    "        \n",
    "        pass \n"
   ]
  },
  {
   "cell_type": "markdown",
   "metadata": {},
   "source": [
    "### Store the DNA sequence given to you in the variable below "
   ]
  },
  {
   "cell_type": "code",
   "execution_count": 12,
   "metadata": {
    "collapsed": true
   },
   "outputs": [],
   "source": [
    "dna_sequence = ''' '''"
   ]
  },
  {
   "cell_type": "markdown",
   "metadata": {},
   "source": [
    "### Instantiate your class and read in the DNA sequence"
   ]
  },
  {
   "cell_type": "code",
   "execution_count": 14,
   "metadata": {},
   "outputs": [
    {
     "data": {
      "text/plain": [
       "' '"
      ]
     },
     "execution_count": 14,
     "metadata": {},
     "output_type": "execute_result"
    }
   ],
   "source": []
  },
  {
   "cell_type": "markdown",
   "metadata": {},
   "source": [
    "### If you need to adjust any parameter from their default values in the init method, do it here"
   ]
  },
  {
   "cell_type": "code",
   "execution_count": 15,
   "metadata": {
    "collapsed": true
   },
   "outputs": [],
   "source": []
  },
  {
   "cell_type": "markdown",
   "metadata": {},
   "source": [
    "### Show the outcome of your testing and the functions in the subsequent cells "
   ]
  }
 ],
 "metadata": {
  "kernelspec": {
   "display_name": "Python 3",
   "language": "python",
   "name": "python3"
  },
  "language_info": {
   "codemirror_mode": {
    "name": "ipython",
    "version": 3
   },
   "file_extension": ".py",
   "mimetype": "text/x-python",
   "name": "python",
   "nbconvert_exporter": "python",
   "pygments_lexer": "ipython3",
   "version": "3.6.4"
  }
 },
 "nbformat": 4,
 "nbformat_minor": 2
}
